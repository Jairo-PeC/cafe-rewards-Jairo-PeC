{
  "nbformat": 4,
  "nbformat_minor": 0,
  "metadata": {
    "colab": {
      "provenance": [],
      "include_colab_link": true
    },
    "kernelspec": {
      "name": "python3",
      "display_name": "Python 3"
    },
    "language_info": {
      "name": "python"
    }
  },
  "cells": [
    {
      "cell_type": "markdown",
      "metadata": {
        "id": "view-in-github",
        "colab_type": "text"
      },
      "source": [
        "<a href=\"https://colab.research.google.com/github/Jairo-PeC/cafe-rewards-Jairo-PeC/blob/main/Ballastlane_Data_Engineer_exercise_Jairo_Pe%C3%B1a.ipynb\" target=\"_parent\"><img src=\"https://colab.research.google.com/assets/colab-badge.svg\" alt=\"Open In Colab\"/></a>"
      ]
    },
    {
      "cell_type": "markdown",
      "source": [
        "# Ballastlane - Data Engineer exercise"
      ],
      "metadata": {
        "id": "fO9iYmloCz4R"
      }
    },
    {
      "cell_type": "markdown",
      "source": [
        "### Setting up kaggle connection to upload data into RAW folder"
      ],
      "metadata": {
        "id": "9g4fCc1dE10m"
      }
    },
    {
      "cell_type": "code",
      "execution_count": 7,
      "metadata": {
        "colab": {
          "base_uri": "https://localhost:8080/"
        },
        "id": "tFnMqzJWCiaH",
        "outputId": "09cc2bf5-b4b8-4dd8-e3b4-82a4654febae"
      },
      "outputs": [
        {
          "output_type": "stream",
          "name": "stdout",
          "text": [
            "Requirement already satisfied: kagglehub in /usr/local/lib/python3.11/dist-packages (0.3.10)\n",
            "Requirement already satisfied: packaging in /usr/local/lib/python3.11/dist-packages (from kagglehub) (24.2)\n",
            "Requirement already satisfied: pyyaml in /usr/local/lib/python3.11/dist-packages (from kagglehub) (6.0.2)\n",
            "Requirement already satisfied: requests in /usr/local/lib/python3.11/dist-packages (from kagglehub) (2.32.3)\n",
            "Requirement already satisfied: tqdm in /usr/local/lib/python3.11/dist-packages (from kagglehub) (4.67.1)\n",
            "Requirement already satisfied: charset-normalizer<4,>=2 in /usr/local/lib/python3.11/dist-packages (from requests->kagglehub) (3.4.1)\n",
            "Requirement already satisfied: idna<4,>=2.5 in /usr/local/lib/python3.11/dist-packages (from requests->kagglehub) (3.10)\n",
            "Requirement already satisfied: urllib3<3,>=1.21.1 in /usr/local/lib/python3.11/dist-packages (from requests->kagglehub) (2.3.0)\n",
            "Requirement already satisfied: certifi>=2017.4.17 in /usr/local/lib/python3.11/dist-packages (from requests->kagglehub) (2025.1.31)\n"
          ]
        }
      ],
      "source": [
        "#Install kagglehub to download data\n",
        "!pip install kagglehub"
      ]
    },
    {
      "cell_type": "code",
      "source": [
        "# Upload kaggle.json manually\n",
        "from google.colab import files\n",
        "files.upload()\n"
      ],
      "metadata": {
        "colab": {
          "base_uri": "https://localhost:8080/",
          "height": 90
        },
        "id": "erBc352kCzTC",
        "outputId": "8b2c6c48-4116-4d7c-de73-e093938e86f9"
      },
      "execution_count": 8,
      "outputs": [
        {
          "output_type": "display_data",
          "data": {
            "text/plain": [
              "<IPython.core.display.HTML object>"
            ],
            "text/html": [
              "\n",
              "     <input type=\"file\" id=\"files-f974aa48-4fd3-4f97-b246-1531cb664f14\" name=\"files[]\" multiple disabled\n",
              "        style=\"border:none\" />\n",
              "     <output id=\"result-f974aa48-4fd3-4f97-b246-1531cb664f14\">\n",
              "      Upload widget is only available when the cell has been executed in the\n",
              "      current browser session. Please rerun this cell to enable.\n",
              "      </output>\n",
              "      <script>// Copyright 2017 Google LLC\n",
              "//\n",
              "// Licensed under the Apache License, Version 2.0 (the \"License\");\n",
              "// you may not use this file except in compliance with the License.\n",
              "// You may obtain a copy of the License at\n",
              "//\n",
              "//      http://www.apache.org/licenses/LICENSE-2.0\n",
              "//\n",
              "// Unless required by applicable law or agreed to in writing, software\n",
              "// distributed under the License is distributed on an \"AS IS\" BASIS,\n",
              "// WITHOUT WARRANTIES OR CONDITIONS OF ANY KIND, either express or implied.\n",
              "// See the License for the specific language governing permissions and\n",
              "// limitations under the License.\n",
              "\n",
              "/**\n",
              " * @fileoverview Helpers for google.colab Python module.\n",
              " */\n",
              "(function(scope) {\n",
              "function span(text, styleAttributes = {}) {\n",
              "  const element = document.createElement('span');\n",
              "  element.textContent = text;\n",
              "  for (const key of Object.keys(styleAttributes)) {\n",
              "    element.style[key] = styleAttributes[key];\n",
              "  }\n",
              "  return element;\n",
              "}\n",
              "\n",
              "// Max number of bytes which will be uploaded at a time.\n",
              "const MAX_PAYLOAD_SIZE = 100 * 1024;\n",
              "\n",
              "function _uploadFiles(inputId, outputId) {\n",
              "  const steps = uploadFilesStep(inputId, outputId);\n",
              "  const outputElement = document.getElementById(outputId);\n",
              "  // Cache steps on the outputElement to make it available for the next call\n",
              "  // to uploadFilesContinue from Python.\n",
              "  outputElement.steps = steps;\n",
              "\n",
              "  return _uploadFilesContinue(outputId);\n",
              "}\n",
              "\n",
              "// This is roughly an async generator (not supported in the browser yet),\n",
              "// where there are multiple asynchronous steps and the Python side is going\n",
              "// to poll for completion of each step.\n",
              "// This uses a Promise to block the python side on completion of each step,\n",
              "// then passes the result of the previous step as the input to the next step.\n",
              "function _uploadFilesContinue(outputId) {\n",
              "  const outputElement = document.getElementById(outputId);\n",
              "  const steps = outputElement.steps;\n",
              "\n",
              "  const next = steps.next(outputElement.lastPromiseValue);\n",
              "  return Promise.resolve(next.value.promise).then((value) => {\n",
              "    // Cache the last promise value to make it available to the next\n",
              "    // step of the generator.\n",
              "    outputElement.lastPromiseValue = value;\n",
              "    return next.value.response;\n",
              "  });\n",
              "}\n",
              "\n",
              "/**\n",
              " * Generator function which is called between each async step of the upload\n",
              " * process.\n",
              " * @param {string} inputId Element ID of the input file picker element.\n",
              " * @param {string} outputId Element ID of the output display.\n",
              " * @return {!Iterable<!Object>} Iterable of next steps.\n",
              " */\n",
              "function* uploadFilesStep(inputId, outputId) {\n",
              "  const inputElement = document.getElementById(inputId);\n",
              "  inputElement.disabled = false;\n",
              "\n",
              "  const outputElement = document.getElementById(outputId);\n",
              "  outputElement.innerHTML = '';\n",
              "\n",
              "  const pickedPromise = new Promise((resolve) => {\n",
              "    inputElement.addEventListener('change', (e) => {\n",
              "      resolve(e.target.files);\n",
              "    });\n",
              "  });\n",
              "\n",
              "  const cancel = document.createElement('button');\n",
              "  inputElement.parentElement.appendChild(cancel);\n",
              "  cancel.textContent = 'Cancel upload';\n",
              "  const cancelPromise = new Promise((resolve) => {\n",
              "    cancel.onclick = () => {\n",
              "      resolve(null);\n",
              "    };\n",
              "  });\n",
              "\n",
              "  // Wait for the user to pick the files.\n",
              "  const files = yield {\n",
              "    promise: Promise.race([pickedPromise, cancelPromise]),\n",
              "    response: {\n",
              "      action: 'starting',\n",
              "    }\n",
              "  };\n",
              "\n",
              "  cancel.remove();\n",
              "\n",
              "  // Disable the input element since further picks are not allowed.\n",
              "  inputElement.disabled = true;\n",
              "\n",
              "  if (!files) {\n",
              "    return {\n",
              "      response: {\n",
              "        action: 'complete',\n",
              "      }\n",
              "    };\n",
              "  }\n",
              "\n",
              "  for (const file of files) {\n",
              "    const li = document.createElement('li');\n",
              "    li.append(span(file.name, {fontWeight: 'bold'}));\n",
              "    li.append(span(\n",
              "        `(${file.type || 'n/a'}) - ${file.size} bytes, ` +\n",
              "        `last modified: ${\n",
              "            file.lastModifiedDate ? file.lastModifiedDate.toLocaleDateString() :\n",
              "                                    'n/a'} - `));\n",
              "    const percent = span('0% done');\n",
              "    li.appendChild(percent);\n",
              "\n",
              "    outputElement.appendChild(li);\n",
              "\n",
              "    const fileDataPromise = new Promise((resolve) => {\n",
              "      const reader = new FileReader();\n",
              "      reader.onload = (e) => {\n",
              "        resolve(e.target.result);\n",
              "      };\n",
              "      reader.readAsArrayBuffer(file);\n",
              "    });\n",
              "    // Wait for the data to be ready.\n",
              "    let fileData = yield {\n",
              "      promise: fileDataPromise,\n",
              "      response: {\n",
              "        action: 'continue',\n",
              "      }\n",
              "    };\n",
              "\n",
              "    // Use a chunked sending to avoid message size limits. See b/62115660.\n",
              "    let position = 0;\n",
              "    do {\n",
              "      const length = Math.min(fileData.byteLength - position, MAX_PAYLOAD_SIZE);\n",
              "      const chunk = new Uint8Array(fileData, position, length);\n",
              "      position += length;\n",
              "\n",
              "      const base64 = btoa(String.fromCharCode.apply(null, chunk));\n",
              "      yield {\n",
              "        response: {\n",
              "          action: 'append',\n",
              "          file: file.name,\n",
              "          data: base64,\n",
              "        },\n",
              "      };\n",
              "\n",
              "      let percentDone = fileData.byteLength === 0 ?\n",
              "          100 :\n",
              "          Math.round((position / fileData.byteLength) * 100);\n",
              "      percent.textContent = `${percentDone}% done`;\n",
              "\n",
              "    } while (position < fileData.byteLength);\n",
              "  }\n",
              "\n",
              "  // All done.\n",
              "  yield {\n",
              "    response: {\n",
              "      action: 'complete',\n",
              "    }\n",
              "  };\n",
              "}\n",
              "\n",
              "scope.google = scope.google || {};\n",
              "scope.google.colab = scope.google.colab || {};\n",
              "scope.google.colab._files = {\n",
              "  _uploadFiles,\n",
              "  _uploadFilesContinue,\n",
              "};\n",
              "})(self);\n",
              "</script> "
            ]
          },
          "metadata": {}
        },
        {
          "output_type": "stream",
          "name": "stdout",
          "text": [
            "Saving kaggle.json to kaggle.json\n"
          ]
        },
        {
          "output_type": "execute_result",
          "data": {
            "text/plain": [
              "{'kaggle.json': b'{\"username\":\"jairopeacruz\",\"key\":\"7bdd2ddb2e94fe2957c017498abed502\"}'}"
            ]
          },
          "metadata": {},
          "execution_count": 8
        }
      ]
    },
    {
      "cell_type": "code",
      "source": [
        "# Set correct directory permissions\n",
        "!mkdir -p ~/.kaggle\n",
        "!mv kaggle.json ~/.kaggle/\n",
        "!chmod 600 ~/.kaggle/kaggle.json"
      ],
      "metadata": {
        "id": "bRsd-PDeECqX"
      },
      "execution_count": 9,
      "outputs": []
    },
    {
      "cell_type": "code",
      "source": [
        "import kagglehub\n",
        "import shutil\n",
        "import os\n",
        "\n",
        "# Define the target directory\n",
        "save_path = \"/content/caf-rewards-offer/raw\"\n",
        "\n",
        "# Download dataset\n",
        "dataset_path = kagglehub.dataset_download(\"arshmankhalid/caf-rewards-offer-dataset\")\n",
        "\n",
        "# Move files to directory\n",
        "os.makedirs(save_path, exist_ok=True)\n",
        "\n",
        "for file in os.listdir(dataset_path):\n",
        "    shutil.move(os.path.join(dataset_path, file), save_path)\n",
        "\n",
        "print(\"Dataset saved to:\", save_path)\n",
        "print(\"Files:\", os.listdir(save_path))\n",
        "\n"
      ],
      "metadata": {
        "colab": {
          "base_uri": "https://localhost:8080/"
        },
        "id": "tPyE3K5wEOSO",
        "outputId": "b2828fad-7ba2-4875-d91e-00a8848493ec"
      },
      "execution_count": 10,
      "outputs": [
        {
          "output_type": "stream",
          "name": "stdout",
          "text": [
            "Dataset saved to: /content/caf-rewards-offer/raw\n",
            "Files: ['customers.csv', 'data_dictionary.csv', 'events.csv', 'offers.csv']\n"
          ]
        }
      ]
    },
    {
      "cell_type": "markdown",
      "source": [
        "### Retrieving raw tables to clean and save data into trusted layer as columnar type files (.parquet)"
      ],
      "metadata": {
        "id": "Cx3ZYfrNvrVL"
      }
    },
    {
      "cell_type": "code",
      "source": [
        "!pip install pyspark\n",
        "from pyspark.sql import SparkSession\n",
        "\n",
        "spark = SparkSession.builder.master(\"local[*]\").appName(\"cafRewardsOffer\").getOrCreate()\n",
        "spark"
      ],
      "metadata": {
        "colab": {
          "base_uri": "https://localhost:8080/",
          "height": 254
        },
        "id": "puOHV7OSwBVw",
        "outputId": "bf2dca29-a3a5-44e5-cef5-94b9c8360acb"
      },
      "execution_count": 11,
      "outputs": [
        {
          "output_type": "stream",
          "name": "stdout",
          "text": [
            "Requirement already satisfied: pyspark in /usr/local/lib/python3.11/dist-packages (3.5.4)\n",
            "Requirement already satisfied: py4j==0.10.9.7 in /usr/local/lib/python3.11/dist-packages (from pyspark) (0.10.9.7)\n"
          ]
        },
        {
          "output_type": "execute_result",
          "data": {
            "text/plain": [
              "<pyspark.sql.session.SparkSession at 0x79c290643710>"
            ],
            "text/html": [
              "\n",
              "            <div>\n",
              "                <p><b>SparkSession - in-memory</b></p>\n",
              "                \n",
              "        <div>\n",
              "            <p><b>SparkContext</b></p>\n",
              "\n",
              "            <p><a href=\"http://fa2713400a71:4040\">Spark UI</a></p>\n",
              "\n",
              "            <dl>\n",
              "              <dt>Version</dt>\n",
              "                <dd><code>v3.5.4</code></dd>\n",
              "              <dt>Master</dt>\n",
              "                <dd><code>local[*]</code></dd>\n",
              "              <dt>AppName</dt>\n",
              "                <dd><code>cafRewardsOffer</code></dd>\n",
              "            </dl>\n",
              "        </div>\n",
              "        \n",
              "            </div>\n",
              "        "
            ]
          },
          "metadata": {},
          "execution_count": 11
        }
      ]
    },
    {
      "cell_type": "code",
      "source": [
        "raw_path = \"/content/caf-rewards-offer/raw\"\n",
        "files = os.listdir(raw_path)\n",
        "\n",
        "# Dictionary to store DataFrames\n",
        "dfs = {}\n",
        "\n",
        "# Read all CSV files into DataFrames\n",
        "for file in files:\n",
        "    if file.endswith(\".csv\") and not file.endswith('data_dictionary.csv'):\n",
        "        file_path = os.path.join(raw_path, file)\n",
        "        df_name = file.replace(\".csv\", \"\")  # Use filename as key (without .csv)\n",
        "\n",
        "        # Read CSV into a DataFrame\n",
        "        df = spark.read.option(\"header\", \"true\").option(\"inferSchema\", \"true\").csv(file_path)\n",
        "        dfs[df_name] = df\n",
        "        df.printSchema()\n",
        "        print(f\"Loaded {file} into DataFrame: {df_name}\")\n",
        "        df.show(5)\n"
      ],
      "metadata": {
        "id": "tXZy85LiwtNJ",
        "colab": {
          "base_uri": "https://localhost:8080/"
        },
        "outputId": "9531b8fb-cc7c-49aa-a1bb-7e98172d0e08"
      },
      "execution_count": 12,
      "outputs": [
        {
          "output_type": "stream",
          "name": "stdout",
          "text": [
            "root\n",
            " |-- customer_id: string (nullable = true)\n",
            " |-- became_member_on: integer (nullable = true)\n",
            " |-- gender: string (nullable = true)\n",
            " |-- age: integer (nullable = true)\n",
            " |-- income: integer (nullable = true)\n",
            "\n",
            "Loaded customers.csv into DataFrame: customers\n",
            "+--------------------+----------------+------+---+------+\n",
            "|         customer_id|became_member_on|gender|age|income|\n",
            "+--------------------+----------------+------+---+------+\n",
            "|68be06ca386d4c319...|        20170212|  NULL|118|  NULL|\n",
            "|0610b486422d4921a...|        20170715|     F| 55|112000|\n",
            "|38fe809add3b4fcf9...|        20180712|  NULL|118|  NULL|\n",
            "|78afa995795e4d85b...|        20170509|     F| 75|100000|\n",
            "|a03223e636434f42a...|        20170804|  NULL|118|  NULL|\n",
            "+--------------------+----------------+------+---+------+\n",
            "only showing top 5 rows\n",
            "\n",
            "root\n",
            " |-- customer_id: string (nullable = true)\n",
            " |-- event: string (nullable = true)\n",
            " |-- value: string (nullable = true)\n",
            " |-- time: integer (nullable = true)\n",
            "\n",
            "Loaded events.csv into DataFrame: events\n",
            "+--------------------+--------------+--------------------+----+\n",
            "|         customer_id|         event|               value|time|\n",
            "+--------------------+--------------+--------------------+----+\n",
            "|78afa995795e4d85b...|offer received|{'offer id': '9b9...|   0|\n",
            "|a03223e636434f42a...|offer received|{'offer id': '0b1...|   0|\n",
            "|e2127556f4f64592b...|offer received|{'offer id': '290...|   0|\n",
            "|8ec6ce2a7e7949b1b...|offer received|{'offer id': 'faf...|   0|\n",
            "|68617ca6246f4fbc8...|offer received|{'offer id': '4d5...|   0|\n",
            "+--------------------+--------------+--------------------+----+\n",
            "only showing top 5 rows\n",
            "\n",
            "root\n",
            " |-- offer_id: string (nullable = true)\n",
            " |-- offer_type: string (nullable = true)\n",
            " |-- difficulty: integer (nullable = true)\n",
            " |-- reward: integer (nullable = true)\n",
            " |-- duration: integer (nullable = true)\n",
            " |-- channels: string (nullable = true)\n",
            "\n",
            "Loaded offers.csv into DataFrame: offers\n",
            "+--------------------+-------------+----------+------+--------+--------------------+\n",
            "|            offer_id|   offer_type|difficulty|reward|duration|            channels|\n",
            "+--------------------+-------------+----------+------+--------+--------------------+\n",
            "|ae264e3637204a6fb...|         bogo|        10|    10|       7|['email', 'mobile...|\n",
            "|4d5c57ea9a6940dd8...|         bogo|        10|    10|       5|['web', 'email', ...|\n",
            "|3f207df678b143eea...|informational|         0|     0|       4|['web', 'email', ...|\n",
            "|9b98b8c7a33c4b65b...|         bogo|         5|     5|       7|['web', 'email', ...|\n",
            "|0b1e1539f2cc45b7b...|     discount|        20|     5|      10|    ['web', 'email']|\n",
            "+--------------------+-------------+----------+------+--------+--------------------+\n",
            "only showing top 5 rows\n",
            "\n"
          ]
        }
      ]
    },
    {
      "cell_type": "code",
      "source": [
        "##Initialize spark and retrieve data from RAW layer\n",
        "from pyspark.sql.functions import *\n",
        "from pyspark.sql.types import *\n",
        "import os\n",
        "\n",
        "# Paths\n",
        "raw_path = \"/content/caf-rewards-offer/raw\"\n",
        "trusted_path = \"/content/caf-rewards-offer/trusted\"\n",
        "os.makedirs(trusted_path, exist_ok=True)\n",
        "\n",
        "# Load DataFrames\n",
        "offers_df = spark.read.option(\"header\", \"true\").option(\"inferSchema\", \"true\").csv(os.path.join(raw_path, \"offers.csv\"))\n",
        "customers_df = spark.read.option(\"header\", \"true\").option(\"inferSchema\", \"true\").csv(os.path.join(raw_path, \"customers.csv\"))\n",
        "events_df = spark.read.option(\"header\", \"true\").option(\"inferSchema\", \"true\").csv(os.path.join(raw_path, \"events.csv\"))\n",
        "\n",
        "offers_df.printSchema()\n",
        "customers_df.printSchema()\n",
        "events_df.printSchema()"
      ],
      "metadata": {
        "colab": {
          "base_uri": "https://localhost:8080/"
        },
        "id": "7AbRb6jSx2h5",
        "outputId": "9f1099b9-388a-4987-ab25-af1cb8bbc926"
      },
      "execution_count": 13,
      "outputs": [
        {
          "output_type": "stream",
          "name": "stdout",
          "text": [
            "root\n",
            " |-- offer_id: string (nullable = true)\n",
            " |-- offer_type: string (nullable = true)\n",
            " |-- difficulty: integer (nullable = true)\n",
            " |-- reward: integer (nullable = true)\n",
            " |-- duration: integer (nullable = true)\n",
            " |-- channels: string (nullable = true)\n",
            "\n",
            "root\n",
            " |-- customer_id: string (nullable = true)\n",
            " |-- became_member_on: integer (nullable = true)\n",
            " |-- gender: string (nullable = true)\n",
            " |-- age: integer (nullable = true)\n",
            " |-- income: integer (nullable = true)\n",
            "\n",
            "root\n",
            " |-- customer_id: string (nullable = true)\n",
            " |-- event: string (nullable = true)\n",
            " |-- value: string (nullable = true)\n",
            " |-- time: integer (nullable = true)\n",
            "\n"
          ]
        }
      ]
    },
    {
      "cell_type": "code",
      "source": [
        "###CLEANSING AND TRANSFORMING OFFERS TABLE\n",
        "# Dropping duplicates\n",
        "trusted_offers_df = offers_df.dropDuplicates([\"offer_id\"])\n",
        "\n",
        "# Ensure difficulty, reward, and duration are non-negative\n",
        "trusted_offers_df = trusted_offers_df.withColumn(\"difficulty\", when(col(\"difficulty\") < 0, 0).otherwise(col(\"difficulty\")))\n",
        "trusted_offers_df = trusted_offers_df.withColumn(\"reward\", when(col(\"reward\") < 0, 0).otherwise(col(\"reward\")))\n",
        "trusted_offers_df = trusted_offers_df.withColumn(\"duration\", when(col(\"duration\") < 0, 0).otherwise(col(\"duration\")))\n",
        "\n",
        "# Create boolean columns for each channel\n",
        "trusted_offers_df = trusted_offers_df.withColumn(\"channels\", split(regexp_replace(col(\"channels\"), \"[\\\\[\\\\]']\", \"\"), \", \"))\n",
        "trusted_offers_df = trusted_offers_df.withColumn(\"email\", array_contains(col(\"channels\"), \"email\")) \\\n",
        "                     .withColumn(\"mobile\", array_contains(col(\"channels\"), \"mobile\")) \\\n",
        "                     .withColumn(\"social\", array_contains(col(\"channels\"), \"social\")) \\\n",
        "                     .withColumn(\"web\", array_contains(col(\"channels\"), \"web\"))\n",
        "\n",
        "trusted_offers_df = trusted_offers_df.drop(\"channels\")\n",
        "\n",
        "\n",
        "trusted_offers_df.show(5)"
      ],
      "metadata": {
        "colab": {
          "base_uri": "https://localhost:8080/"
        },
        "id": "UiX4pGR8jcy-",
        "outputId": "ab447a2f-c553-43a2-8836-b1af3f6c24da"
      },
      "execution_count": 14,
      "outputs": [
        {
          "output_type": "stream",
          "name": "stdout",
          "text": [
            "+--------------------+-------------+----------+------+--------+-----+------+------+----+\n",
            "|            offer_id|   offer_type|difficulty|reward|duration|email|mobile|social| web|\n",
            "+--------------------+-------------+----------+------+--------+-----+------+------+----+\n",
            "|0b1e1539f2cc45b7b...|     discount|        20|     5|      10| true| false| false|true|\n",
            "|2298d6c36e964ae4a...|     discount|         7|     3|       7| true|  true|  true|true|\n",
            "|2906b810c7d441179...|     discount|        10|     2|       7| true|  true| false|true|\n",
            "|3f207df678b143eea...|informational|         0|     0|       4| true|  true| false|true|\n",
            "|4d5c57ea9a6940dd8...|         bogo|        10|    10|       5| true|  true|  true|true|\n",
            "+--------------------+-------------+----------+------+--------+-----+------+------+----+\n",
            "only showing top 5 rows\n",
            "\n"
          ]
        }
      ]
    },
    {
      "cell_type": "code",
      "source": [
        "###CLEANSING AND TRANSFORMING CUSTOMERS TABLE\n",
        "\n",
        "# Dropping duplicates\n",
        "trusted_customers_df = customers_df.dropDuplicates([\"customer_id\"])\n",
        "\n",
        "# Force column back to INT (if it's in the wrong format)\n",
        "#customers_df = customers_df.withColumn(\"became_member_on\", col(\"became_member_on\").cast(\"int\"))\n",
        "# Convert to string, then to proper date (yyyymmdd)\n",
        "#customers_df = customers_df.withColumn(\"date\",to_date(col(\"became_member_on\").cast(\"int\").cast(\"string\"), \"yyyyMMdd\"))\n",
        "trusted_customers_df = trusted_customers_df.withColumn(\"became_member_on\", to_date(col(\"became_member_on\"), \"yyyyMMdd\"))\n",
        "\n",
        "# Validate gender values\n",
        "valid_genders = [\"M\", \"F\", \"O\"]\n",
        "trusted_customers_df = trusted_customers_df.withColumn(\"gender\", when(col(\"gender\").isin(valid_genders), col(\"gender\")).otherwise(lit(None)))\n",
        "\n",
        "# Replace age = 118 with NULL because it is meaningless\n",
        "customers_df = customers_df.withColumn(\"age\", when(col(\"age\") == 118, None).otherwise(col(\"age\")))\n",
        "\n",
        "# Create a new column \"age_group\"\n",
        "trusted_customers_df = trusted_customers_df.withColumn(\n",
        "    \"age_group\",\n",
        "    when(col(\"age\").isNull(), \"N/A\")\n",
        "    .when(col(\"age\") < 25, \"Under 25\")\n",
        "    .when((col(\"age\") >= 25) & (col(\"age\") <= 40), \"25-40\")\n",
        "    .when((col(\"age\") >= 41) & (col(\"age\") <= 60), \"41-60\")\n",
        "    .otherwise(\"61 and above\")\n",
        ")\n",
        "\n",
        "trusted_customers_df.show(5)"
      ],
      "metadata": {
        "colab": {
          "base_uri": "https://localhost:8080/"
        },
        "id": "eK6FhGTmtA5k",
        "outputId": "fa93d805-eb6d-4df5-f6fb-4400aecab64f"
      },
      "execution_count": 15,
      "outputs": [
        {
          "output_type": "stream",
          "name": "stdout",
          "text": [
            "+--------------------+----------------+------+---+------+------------+\n",
            "|         customer_id|became_member_on|gender|age|income|   age_group|\n",
            "+--------------------+----------------+------+---+------+------------+\n",
            "|0009655768c64bdeb...|      2017-04-21|     M| 33| 72000|       25-40|\n",
            "|00116118485d4dfda...|      2018-04-25|  NULL|118|  NULL|61 and above|\n",
            "|0011e0d4e6b944f99...|      2018-01-09|     O| 40| 57000|       25-40|\n",
            "|0020c2b971eb4e918...|      2016-03-04|     F| 59| 90000|       41-60|\n",
            "|0020ccbbb6d84e358...|      2016-11-11|     F| 24| 60000|    Under 25|\n",
            "+--------------------+----------------+------+---+------+------------+\n",
            "only showing top 5 rows\n",
            "\n"
          ]
        }
      ]
    },
    {
      "cell_type": "code",
      "source": [
        "### CLEANSING AND TRANSFORMING EVENTS TABLE\n",
        "# Dropping duplicates\n",
        "trusted_events_df = events_df.dropDuplicates()\n",
        "\n",
        "# Extract values from the 'value' column\n",
        "trusted_events_df = trusted_events_df.withColumn(\n",
        "    \"offer_id\",\n",
        "    when(col(\"event\").isin([\"offer received\", \"offer viewed\", \"offer completed\"]),\n",
        "         regexp_extract(col(\"value\"), \"'offer[ _]id': '([a-z0-9]+)'\", 1))\n",
        ").withColumn(\n",
        "    \"transaction_amount\",\n",
        "    when(col(\"event\") == \"transaction\",\n",
        "         regexp_extract(col(\"value\"), \"'amount': ([0-9.]+)\", 1).cast(FloatType()))\n",
        ").select(\n",
        "    \"customer_id\",\n",
        "    \"offer_id\",\n",
        "    \"event\",\n",
        "    \"time\",\n",
        "    \"transaction_amount\"\n",
        ")\n",
        "\n",
        "# Show the final output\n",
        "trusted_events_df.show(10)\n"
      ],
      "metadata": {
        "colab": {
          "base_uri": "https://localhost:8080/"
        },
        "id": "EAnTZ6GHtTyb",
        "outputId": "33cc86b5-7813-4d37-c94a-5960139fca4c"
      },
      "execution_count": 16,
      "outputs": [
        {
          "output_type": "stream",
          "name": "stdout",
          "text": [
            "+--------------------+--------------------+--------------+----+------------------+\n",
            "|         customer_id|            offer_id|         event|time|transaction_amount|\n",
            "+--------------------+--------------------+--------------+----+------------------+\n",
            "|f8c45b7197e2414da...|ae264e3637204a6fb...|offer received|   0|              NULL|\n",
            "|93c230e2ff31416c9...|9b98b8c7a33c4b65b...|offer received|   0|              NULL|\n",
            "|554e8f98231e467e9...|3f207df678b143eea...|offer received|   0|              NULL|\n",
            "|3d29f05a4e2140f78...|4d5c57ea9a6940dd8...|offer received|   0|              NULL|\n",
            "|2e868c31f1bf4085a...|2298d6c36e964ae4a...|offer received|   0|              NULL|\n",
            "|e5fec103d6ab47399...|f19421c1d4aa40978...|offer received|   0|              NULL|\n",
            "|cce4f9124fcf46d1b...|ae264e3637204a6fb...|offer received|   0|              NULL|\n",
            "|1bd0ff7244cb49cc9...|f19421c1d4aa40978...|offer received|   0|              NULL|\n",
            "|df07a83f4b8343779...|9b98b8c7a33c4b65b...|offer received|   0|              NULL|\n",
            "|e1a2d8e3601747aba...|ae264e3637204a6fb...|offer received|   0|              NULL|\n",
            "+--------------------+--------------------+--------------+----+------------------+\n",
            "only showing top 10 rows\n",
            "\n"
          ]
        }
      ]
    },
    {
      "cell_type": "code",
      "source": [
        "### SAVE DATA AS PARQUET\n",
        "trusted_offers_df.write.mode(\"overwrite\").parquet(os.path.join(trusted_path, \"trusted_offers.parquet\"))\n",
        "trusted_customers_df.write.mode(\"overwrite\").parquet(os.path.join(trusted_path, \"trusted_customers.parquet\"))\n",
        "trusted_events_df.write.mode(\"overwrite\").parquet(os.path.join(trusted_path, \"trusted_events.parquet\"))\n",
        "\n",
        "print(\"Cleaned and standarized data saved in Parquet format at:\", trusted_path)"
      ],
      "metadata": {
        "id": "UUli_JCfuEfI",
        "colab": {
          "base_uri": "https://localhost:8080/"
        },
        "outputId": "c21ec52f-9e17-4528-e958-5dc5822690e8"
      },
      "execution_count": 17,
      "outputs": [
        {
          "output_type": "stream",
          "name": "stdout",
          "text": [
            "Cleaned and standarized data saved in Parquet format at: /content/caf-rewards-offer/trusted\n"
          ]
        }
      ]
    },
    {
      "cell_type": "markdown",
      "source": [
        "### Enrichment layer creation alongside dim_time table creation in order to make events_fact from dim_events final table"
      ],
      "metadata": {
        "id": "-1LYiZLZ1hJv"
      }
    },
    {
      "cell_type": "code",
      "source": [
        "### Retrieving data from trusted layer\n",
        "enriched_path = \"/content/caf-rewards-offer/enriched\"\n",
        "os.makedirs(enriched_path, exist_ok=True)\n",
        "\n",
        "trusted_events_df = spark.read.parquet(os.path.join(trusted_path, \"trusted_events.parquet\"))\n",
        "\n",
        "trusted_events_df.printSchema()"
      ],
      "metadata": {
        "colab": {
          "base_uri": "https://localhost:8080/"
        },
        "id": "40KLdys11xvo",
        "outputId": "b66ad16c-bddd-4355-eaf2-52d4ef73c0a0"
      },
      "execution_count": 18,
      "outputs": [
        {
          "output_type": "stream",
          "name": "stdout",
          "text": [
            "root\n",
            " |-- customer_id: string (nullable = true)\n",
            " |-- offer_id: string (nullable = true)\n",
            " |-- event: string (nullable = true)\n",
            " |-- time: integer (nullable = true)\n",
            " |-- transaction_amount: float (nullable = true)\n",
            "\n"
          ]
        }
      ]
    },
    {
      "cell_type": "code",
      "source": [
        "### ENRICHED LAYER TRANSFORMATIONS\n",
        "\n",
        "# Create dim_time (1-hour granularity)\n",
        "dim_time_df = spark.range(0, 721, 1).select(\n",
        "    col(\"id\").alias(\"time_id\"),\n",
        "    (col(\"id\") % 24).alias(\"hour\"),\n",
        "    (floor(col(\"id\") / 24) + 1).alias(\"day\"),\n",
        "    concat_ws(\" \", lit(\"Day\"), (floor(col(\"id\") / 24) + 1)).alias(\"period_day\")\n",
        ")\n",
        "\n",
        "\n",
        "dim_time_df.show(10)\n",
        "\n",
        "# Split into offer events and transactions\n",
        "offer_events_df = trusted_events_df.filter(col(\"event\").isin([\"offer received\", \"offer viewed\", \"offer completed\"]))\n",
        "transaction_events_df = trusted_events_df.filter(col(\"event\") == \"transaction\")\n",
        "\n",
        "# Pivot offer events\n",
        "offer_pivoted_df = offer_events_df.groupBy(\"customer_id\", \"offer_id\").agg(\n",
        "    max(when(col(\"event\") == \"offer received\", col(\"time\"))).alias(\"received_time_id\"),\n",
        "    max(when(col(\"event\") == \"offer viewed\", col(\"time\"))).alias(\"viewed_time_id\"),\n",
        "    max(when(col(\"event\") == \"offer completed\", col(\"time\"))).alias(\"completed_time_id\")\n",
        ")\n",
        "\n",
        "# Join transactions where time matches completed_time_id\n",
        "fact_events_with_linked_df = offer_pivoted_df.join(\n",
        "    transaction_events_df.alias(\"t\"),\n",
        "    (offer_pivoted_df.customer_id == col(\"t.customer_id\")) &\n",
        "    (offer_pivoted_df.completed_time_id == col(\"t.time\")),\n",
        "    \"left_outer\"\n",
        ").select(\n",
        "    offer_pivoted_df.customer_id,\n",
        "    offer_pivoted_df.offer_id,\n",
        "    \"received_time_id\",\n",
        "    \"viewed_time_id\",\n",
        "    \"completed_time_id\",\n",
        "    col(\"t.time\").alias(\"transaction_time_id\"),\n",
        "    col(\"t.transaction_amount\")\n",
        ")\n",
        "\n",
        "# Add standalone transactions (no match with completed_time_id)\n",
        "standalone_transactions_df = transaction_events_df.join(\n",
        "    offer_pivoted_df.alias(\"o\"),\n",
        "    (transaction_events_df.customer_id == col(\"o.customer_id\")) &\n",
        "    (transaction_events_df.time == col(\"o.completed_time_id\")),\n",
        "    \"left_anti\"  # Keep transactions not linked to any offer completion\n",
        ").select(\n",
        "    transaction_events_df.customer_id,\n",
        "    lit(None).cast(\"string\").alias(\"offer_id\"),\n",
        "    lit(None).cast(\"integer\").alias(\"received_time_id\"),\n",
        "    lit(None).cast(\"integer\").alias(\"viewed_time_id\"),\n",
        "    lit(None).cast(\"integer\").alias(\"completed_time_id\"),\n",
        "    transaction_events_df.time.alias(\"transaction_time_id\"),\n",
        "    transaction_events_df.transaction_amount\n",
        ")\n",
        "\n",
        "# Union offer-linked and standalone transactions\n",
        "fact_events_df = fact_events_with_linked_df.union(standalone_transactions_df)\n",
        "\n",
        "fact_events_df.show(30)\n",
        "\n",
        "trusted_events_df.filter(col(\"event\") == \"transaction\").show(30)\n",
        "\n",
        "dim_time_df.write.mode(\"overwrite\").parquet(os.path.join(enriched_path, \"dim_time.parquet\"))\n",
        "fact_events_df.write.mode(\"overwrite\").parquet(os.path.join(enriched_path, \"fact_events.parquet\"))"
      ],
      "metadata": {
        "colab": {
          "base_uri": "https://localhost:8080/"
        },
        "id": "bwLddy9V-QeU",
        "outputId": "ebb85b0f-adc5-4681-da5f-3d0691a3304a"
      },
      "execution_count": 19,
      "outputs": [
        {
          "output_type": "stream",
          "name": "stdout",
          "text": [
            "+-------+----+---+----------+\n",
            "|time_id|hour|day|period_day|\n",
            "+-------+----+---+----------+\n",
            "|      0|   0|  1|     Day 1|\n",
            "|      1|   1|  1|     Day 1|\n",
            "|      2|   2|  1|     Day 1|\n",
            "|      3|   3|  1|     Day 1|\n",
            "|      4|   4|  1|     Day 1|\n",
            "|      5|   5|  1|     Day 1|\n",
            "|      6|   6|  1|     Day 1|\n",
            "|      7|   7|  1|     Day 1|\n",
            "|      8|   8|  1|     Day 1|\n",
            "|      9|   9|  1|     Day 1|\n",
            "+-------+----+---+----------+\n",
            "only showing top 10 rows\n",
            "\n",
            "+--------------------+--------------------+----------------+--------------+-----------------+-------------------+------------------+\n",
            "|         customer_id|            offer_id|received_time_id|viewed_time_id|completed_time_id|transaction_time_id|transaction_amount|\n",
            "+--------------------+--------------------+----------------+--------------+-----------------+-------------------+------------------+\n",
            "|0cfb5a7caa0e4bc89...|4d5c57ea9a6940dd8...|             576|           594|              642|                642|             21.01|\n",
            "|2e0a05df6cda44328...|2906b810c7d441179...|             168|           174|              312|                312|             17.44|\n",
            "|e8b1e52456bf44a29...|2298d6c36e964ae4a...|             408|           414|              438|                438|             11.28|\n",
            "|0861b9ca31b741bb8...|f19421c1d4aa40978...|             408|           414|              408|                408|             25.91|\n",
            "|df6fd073309e42ecb...|ae264e3637204a6fb...|             336|           336|             NULL|               NULL|              NULL|\n",
            "|523e2d85f3d94eefb...|4d5c57ea9a6940dd8...|             336|           360|              384|                384|             24.03|\n",
            "|5c97e730f62d4a8ab...|ae264e3637204a6fb...|             168|           186|             NULL|               NULL|              NULL|\n",
            "|4ecc12e5805548f88...|fafdcd668e3743c1b...|             576|           654|              192|                192|             12.51|\n",
            "|507e271f7d2f43458...|9b98b8c7a33c4b65b...|             336|          NULL|             NULL|               NULL|              NULL|\n",
            "|0b2c053116874c8ab...|2298d6c36e964ae4a...|             408|           438|             NULL|               NULL|              NULL|\n",
            "|faffe5ce24c343a39...|3f207df678b143eea...|             336|           336|             NULL|               NULL|              NULL|\n",
            "|251d8e61db61415fb...|5a8bc65990b245e5a...|             408|           456|             NULL|               NULL|              NULL|\n",
            "|b45a587bef8247f8a...|f19421c1d4aa40978...|             336|          NULL|              432|                432|             35.74|\n",
            "|39d43317563d4e11b...|5a8bc65990b245e5a...|               0|            24|             NULL|               NULL|              NULL|\n",
            "|369802800cf0416fa...|4d5c57ea9a6940dd8...|               0|            72|             NULL|               NULL|              NULL|\n",
            "|b463e46aa28748849...|2906b810c7d441179...|             336|          NULL|             NULL|               NULL|              NULL|\n",
            "|f6251250f1044d7cb...|fafdcd668e3743c1b...|               0|            42|               72|                 72|             13.98|\n",
            "|7ebd2a16443643df8...|2298d6c36e964ae4a...|             168|           180|              192|                192|             24.79|\n",
            "|4af768dd63d84185b...|f19421c1d4aa40978...|             408|           450|              498|                498|             20.12|\n",
            "|52e27ce4fb99466da...|2298d6c36e964ae4a...|             168|           174|              192|                192|              1.53|\n",
            "|3a7959e6b03b409f8...|9b98b8c7a33c4b65b...|             168|           204|              228|                228|               6.4|\n",
            "|e0f1ca131f4b40a7a...|2298d6c36e964ae4a...|             168|           168|              204|                204|              4.89|\n",
            "|54acb0dd3f7c4dcc9...|fafdcd668e3743c1b...|             336|           342|              432|                432|             16.97|\n",
            "|8e7a22dd150f4ecea...|f19421c1d4aa40978...|             576|           582|              102|                102|              5.06|\n",
            "|951fab8598b540cda...|f19421c1d4aa40978...|             336|           384|              384|                384|              9.73|\n",
            "|a8fcc392843343428...|ae264e3637204a6fb...|               0|          NULL|                0|                  0|              23.5|\n",
            "|0fa15afeba8742808...|2298d6c36e964ae4a...|             168|           180|              318|                318|             15.72|\n",
            "|1aa26e8aea6440de9...|0b1e1539f2cc45b7b...|               0|            48|             NULL|               NULL|              NULL|\n",
            "|ec7b3691775042418...|2906b810c7d441179...|             336|           360|              450|                450|             11.66|\n",
            "|ed79f35c799d4f829...|2298d6c36e964ae4a...|             336|           342|             NULL|               NULL|              NULL|\n",
            "+--------------------+--------------------+----------------+--------------+-----------------+-------------------+------------------+\n",
            "only showing top 30 rows\n",
            "\n",
            "+--------------------+--------+-----------+----+------------------+\n",
            "|         customer_id|offer_id|      event|time|transaction_amount|\n",
            "+--------------------+--------+-----------+----+------------------+\n",
            "|a2506fdc02c544a98...|    NULL|transaction|   0|              1.13|\n",
            "|708d8271f758417e9...|    NULL|transaction|   0|              5.29|\n",
            "|798acbe369c3485ca...|    NULL|transaction|   0|              4.13|\n",
            "|a6af69d4f60e49adb...|    NULL|transaction|   0|             19.05|\n",
            "|0b12d4acf7224f74a...|    NULL|transaction|   0|               1.6|\n",
            "|718c019dbda445348...|    NULL|transaction|   6|              1.75|\n",
            "|d2a62564694243998...|    NULL|transaction|   6|             31.89|\n",
            "|cefd94f3c150431a8...|    NULL|transaction|   6|             12.02|\n",
            "|8f357eea66dd47e7a...|    NULL|transaction|   6|              2.42|\n",
            "|74ad666c65244a93a...|    NULL|transaction|   6|              7.43|\n",
            "|488847b396ed4cbbb...|    NULL|transaction|   6|             14.18|\n",
            "|58566614c9b3417eb...|    NULL|transaction|  12|              3.03|\n",
            "|29429c50dbba41029...|    NULL|transaction|  12|               2.0|\n",
            "|62d559a3f7274bc98...|    NULL|transaction|  12|             33.75|\n",
            "|acad430d2c2e472ab...|    NULL|transaction|  12|              8.29|\n",
            "|9d1a80ee80274a7b8...|    NULL|transaction|  12|              9.92|\n",
            "|8c7a45fe318b45b4a...|    NULL|transaction|  12|              5.57|\n",
            "|6da3d0b813734fa3b...|    NULL|transaction|  12|             15.17|\n",
            "|d19849e046cc441fb...|    NULL|transaction|  18|             19.84|\n",
            "|1f99f39237164b17a...|    NULL|transaction|  18|             11.26|\n",
            "|e2880c9e137a45358...|    NULL|transaction|  18|             15.34|\n",
            "|d35e585fbb9b4ac1b...|    NULL|transaction|  24|             15.09|\n",
            "|85e598f6dff54af2a...|    NULL|transaction|  24|              7.64|\n",
            "|75225655a1c44546a...|    NULL|transaction|  24|              0.36|\n",
            "|7d28b5aabc2640348...|    NULL|transaction|  24|             22.64|\n",
            "|226260d7327d484ab...|    NULL|transaction|  30|              2.08|\n",
            "|7dfe7355623a45988...|    NULL|transaction|  30|              7.66|\n",
            "|2e9e3cfa14dc4500a...|    NULL|transaction|  30|              0.58|\n",
            "|e923430fec954402b...|    NULL|transaction|  30|             17.42|\n",
            "|70a8ee36b52648268...|    NULL|transaction|  30|              1.29|\n",
            "+--------------------+--------+-----------+----+------------------+\n",
            "only showing top 30 rows\n",
            "\n"
          ]
        }
      ]
    },
    {
      "cell_type": "code",
      "source": [
        "###Retrieve final dimensions and facts\n",
        "trusted_offers_df = spark.read.parquet(os.path.join(trusted_path, \"trusted_offers.parquet\"))\n",
        "trusted_customers_df = spark.read.parquet(os.path.join(trusted_path, \"trusted_customers.parquet\"))\n",
        "dim_time_df = spark.read.parquet(os.path.join(enriched_path, \"dim_time.parquet\"))\n",
        "fact_events_df = spark.read.parquet(os.path.join(enriched_path, \"fact_events.parquet\"))\n",
        "\n",
        "# Register as views for SQL\n",
        "fact_events_df.createOrReplaceTempView(\"fact_events\")\n",
        "dim_time_df.createOrReplaceTempView(\"dim_time\")\n",
        "trusted_offers_df.createOrReplaceTempView(\"dim_offer\")\n",
        "trusted_customers_df.createOrReplaceTempView(\"dim_customer\")\n",
        "\n",
        "trusted_offers_df.printSchema()\n",
        "trusted_customers_df.printSchema()\n",
        "dim_time_df.printSchema()\n",
        "fact_events_df.printSchema()"
      ],
      "metadata": {
        "colab": {
          "base_uri": "https://localhost:8080/"
        },
        "id": "VdA9xZ35OAQn",
        "outputId": "15dc9bc3-bd54-408d-889d-5982fd4faf5c"
      },
      "execution_count": 20,
      "outputs": [
        {
          "output_type": "stream",
          "name": "stdout",
          "text": [
            "root\n",
            " |-- offer_id: string (nullable = true)\n",
            " |-- offer_type: string (nullable = true)\n",
            " |-- difficulty: integer (nullable = true)\n",
            " |-- reward: integer (nullable = true)\n",
            " |-- duration: integer (nullable = true)\n",
            " |-- email: boolean (nullable = true)\n",
            " |-- mobile: boolean (nullable = true)\n",
            " |-- social: boolean (nullable = true)\n",
            " |-- web: boolean (nullable = true)\n",
            "\n",
            "root\n",
            " |-- customer_id: string (nullable = true)\n",
            " |-- became_member_on: date (nullable = true)\n",
            " |-- gender: string (nullable = true)\n",
            " |-- age: integer (nullable = true)\n",
            " |-- income: integer (nullable = true)\n",
            " |-- age_group: string (nullable = true)\n",
            "\n",
            "root\n",
            " |-- time_id: long (nullable = true)\n",
            " |-- hour: long (nullable = true)\n",
            " |-- day: long (nullable = true)\n",
            " |-- period_day: string (nullable = true)\n",
            "\n",
            "root\n",
            " |-- customer_id: string (nullable = true)\n",
            " |-- offer_id: string (nullable = true)\n",
            " |-- received_time_id: integer (nullable = true)\n",
            " |-- viewed_time_id: integer (nullable = true)\n",
            " |-- completed_time_id: integer (nullable = true)\n",
            " |-- transaction_time_id: integer (nullable = true)\n",
            " |-- transaction_amount: float (nullable = true)\n",
            "\n"
          ]
        }
      ]
    },
    {
      "cell_type": "code",
      "source": [
        "# completion_summary: Aggregate completions by offer_id for channel analysis\n",
        "completion_summary_df = fact_events_df.groupBy(\"offer_id\").agg(\n",
        "    count(when(col(\"received_time_id\").isNotNull(), 1)).alias(\"offers_received\"),\n",
        "    count(when(col(\"completed_time_id\").isNotNull(), 1)).alias(\"offers_completed\")\n",
        ").join(\n",
        "    trusted_offers_df,\n",
        "    \"offer_id\",\n",
        "    \"inner\"\n",
        ").select(\n",
        "    \"offer_id\",\n",
        "    \"offers_received\",\n",
        "    \"offers_completed\",\n",
        "    \"offer_type\",\n",
        "    \"email\",\n",
        "    \"mobile\",\n",
        "    \"social\",\n",
        "    \"web\"\n",
        ")\n",
        "\n",
        "# customer_completion_summary: Customer-level completion status with age\n",
        "customer_completion_summary_df = fact_events_df.groupBy(\"customer_id\").agg(\n",
        "    max(when(col(\"received_time_id\").isNotNull(), 1).otherwise(0)).alias(\"received_any\"),\n",
        "    max(when(col(\"completed_time_id\").isNotNull(), 1).otherwise(0)).alias(\"completed_any\")\n",
        ").join(\n",
        "    trusted_customers_df,\n",
        "    \"customer_id\",\n",
        "    \"left\"\n",
        ").groupBy(\"age_group\").agg(\n",
        "    sum(when(col(\"received_any\") == 1, 1)).alias(\"total_customers\"),\n",
        "    sum(when(col(\"completed_any\") == 1, 1)).alias(\"completed_customers\"),\n",
        "    sum(when(col(\"completed_any\") == 0, 1)).alias(\"not_completed_customers\")\n",
        ").filter(col(\"total_customers\").isNotNull())\n",
        "\n",
        "# time_to_complete: Time difference for completed offers\n",
        "time_to_complete_df = fact_events_df.filter(\n",
        "    col(\"received_time_id\").isNotNull() & col(\"completed_time_id\").isNotNull()\n",
        ").select(\n",
        "    \"customer_id\",\n",
        "    \"offer_id\",\n",
        "    (col(\"completed_time_id\") - col(\"received_time_id\")).alias(\"time_to_complete_hours\")\n",
        ")\n",
        "\n",
        "completion_summary_df.write.mode(\"overwrite\").parquet(os.path.join(enriched_path, \"completion_summary.parquet\"))\n",
        "customer_completion_summary_df.write.mode(\"overwrite\").parquet(os.path.join(enriched_path, \"customer_completion_summary.parquet\"))\n",
        "time_to_complete_df.write.mode(\"overwrite\").parquet(os.path.join(enriched_path, \"time_to_complete.parquet\"))\n",
        "\n",
        "# Show samples\n",
        "completion_summary_df.show(10, truncate=False)\n",
        "customer_completion_summary_df.show(10, truncate=False)\n",
        "time_to_complete_df.show(10, truncate=False)"
      ],
      "metadata": {
        "colab": {
          "base_uri": "https://localhost:8080/"
        },
        "id": "5qK4dTSEPXgR",
        "outputId": "e6989e31-b7ca-4307-bad9-1d4e2fbb6af1"
      },
      "execution_count": 21,
      "outputs": [
        {
          "output_type": "stream",
          "name": "stdout",
          "text": [
            "+--------------------------------+---------------+----------------+-------------+-----+------+------+-----+\n",
            "|offer_id                        |offers_received|offers_completed|offer_type   |email|mobile|social|web  |\n",
            "+--------------------------------+---------------+----------------+-------------+-----+------+------+-----+\n",
            "|0b1e1539f2cc45b7b9fa7c272da2e1d7|6374           |2978            |discount     |true |false |false |true |\n",
            "|4d5c57ea9a6940dd891ad53e9dbe8da0|6330           |2885            |bogo         |true |true  |true  |true |\n",
            "|9b98b8c7a33c4b65b9aebfe6a799e6d9|6355           |3784            |bogo         |true |true  |false |true |\n",
            "|f19421c1d4aa40978ebb69ca19b0e20d|6262           |3741            |bogo         |true |true  |true  |true |\n",
            "|fafdcd668e3743c1bb461111dcafc2a4|6332           |4530            |discount     |true |true  |true  |true |\n",
            "|ae264e3637204a6fb9bb56bc8210ddfd|6374           |3177            |bogo         |true |true  |true  |false|\n",
            "|5a8bc65990b245e5a138643cd4eb9837|6320           |0               |informational|true |true  |true  |false|\n",
            "|2298d6c36e964ae4a3e7e9706d1fb8c2|6325           |4421            |discount     |true |true  |true  |true |\n",
            "|2906b810c7d4411798c6938adc9daaa5|6285           |3480            |discount     |true |true  |false |true |\n",
            "|3f207df678b143eea3cee63160fa8bed|6331           |0               |informational|true |true  |false |true |\n",
            "+--------------------------------+---------------+----------------+-------------+-----+------+------+-----+\n",
            "\n",
            "+------------+---------------+-------------------+-----------------------+\n",
            "|age_group   |total_customers|completed_customers|not_completed_customers|\n",
            "+------------+---------------+-------------------+-----------------------+\n",
            "|25-40       |2426           |1823               |603                    |\n",
            "|61 and above|7713           |5422               |2295                   |\n",
            "|Under 25    |876            |609                |267                    |\n",
            "|41-60       |5979           |4920               |1061                   |\n",
            "+------------+---------------+-------------------+-----------------------+\n",
            "\n",
            "+--------------------------------+--------------------------------+----------------------+\n",
            "|customer_id                     |offer_id                        |time_to_complete_hours|\n",
            "+--------------------------------+--------------------------------+----------------------+\n",
            "|ebe822d6c590402fa46d0cd3cba32c21|2298d6c36e964ae4a3e7e9706d1fb8c2|66                    |\n",
            "|3579056d94644a9481e05012b48fe252|9b98b8c7a33c4b65b9aebfe6a799e6d9|96                    |\n",
            "|c15cb865796d4edd963ff7165ebd89ef|9b98b8c7a33c4b65b9aebfe6a799e6d9|12                    |\n",
            "|e1c43b9050494f5e9b51c057d7570a98|2906b810c7d4411798c6938adc9daaa5|156                   |\n",
            "|5dfdad4241764dfe959f51b7460e42b1|f19421c1d4aa40978ebb69ca19b0e20d|36                    |\n",
            "|6f089fe142874843bb1d7bf83d56746e|9b98b8c7a33c4b65b9aebfe6a799e6d9|6                     |\n",
            "|5e2305fd5d664411934961ed18b50d88|f19421c1d4aa40978ebb69ca19b0e20d|36                    |\n",
            "|b4f89d9d8c144ee1b8dafb4b707c0fce|fafdcd668e3743c1bb461111dcafc2a4|36                    |\n",
            "|0a4a8c491ba646b89638bd32cb9ed0e3|0b1e1539f2cc45b7b9fa7c272da2e1d7|228                   |\n",
            "|02b7a80a321c4b078af92d494cc0f012|4d5c57ea9a6940dd891ad53e9dbe8da0|60                    |\n",
            "+--------------------------------+--------------------------------+----------------------+\n",
            "only showing top 10 rows\n",
            "\n"
          ]
        }
      ]
    },
    {
      "cell_type": "markdown",
      "source": [
        "### Answering analytical questions"
      ],
      "metadata": {
        "id": "G_xg-tm2SWP0"
      }
    },
    {
      "cell_type": "code",
      "source": [
        "# Register as views for SQL\n",
        "completion_summary_df.createOrReplaceTempView(\"completion_summary\")\n",
        "customer_completion_summary_df.createOrReplaceTempView(\"customer_completion_summary\")\n",
        "time_to_complete_df.createOrReplaceTempView(\"time_to_complete\")"
      ],
      "metadata": {
        "id": "KYpyKcQvSlim"
      },
      "execution_count": 22,
      "outputs": []
    },
    {
      "cell_type": "code",
      "source": [
        "### Which marketing channel is the most effective in terms of offer completion rate?\n",
        "channel_completion_query = \"\"\"\n",
        "WITH channel_counts AS (\n",
        "    SELECT\n",
        "        'email' AS channel,\n",
        "        SUM(offers_received) AS total_received,\n",
        "        SUM(offers_completed) AS total_completed\n",
        "    FROM completion_summary\n",
        "    WHERE email = TRUE\n",
        "    UNION ALL\n",
        "    SELECT\n",
        "        'mobile' AS channel,\n",
        "        SUM(offers_received),\n",
        "        SUM(offers_completed)\n",
        "    FROM completion_summary\n",
        "    WHERE mobile = TRUE\n",
        "    UNION ALL\n",
        "    SELECT\n",
        "        'social' AS channel,\n",
        "        SUM(offers_received),\n",
        "        SUM(offers_completed)\n",
        "    FROM completion_summary\n",
        "    WHERE social = TRUE\n",
        "    UNION ALL\n",
        "    SELECT\n",
        "        'web' AS channel,\n",
        "        SUM(offers_received),\n",
        "        SUM(offers_completed)\n",
        "    FROM completion_summary\n",
        "    WHERE web = TRUE\n",
        ")\n",
        "SELECT\n",
        "    channel,\n",
        "    total_received,\n",
        "    total_completed,\n",
        "    CONCAT(ROUND(total_completed / total_received * 100, 2), '%') AS completion_rate\n",
        "FROM channel_counts\n",
        "ORDER BY completion_rate DESC\n",
        "\"\"\"\n",
        "spark.sql(channel_completion_query).show()"
      ],
      "metadata": {
        "colab": {
          "base_uri": "https://localhost:8080/"
        },
        "id": "5FRu8HfgSSBQ",
        "outputId": "6e1f0baa-4997-48ea-dc15-16aee76d5b49"
      },
      "execution_count": 23,
      "outputs": [
        {
          "output_type": "stream",
          "name": "stdout",
          "text": [
            "+-------+--------------+---------------+---------------+\n",
            "|channel|total_received|total_completed|completion_rate|\n",
            "+-------+--------------+---------------+---------------+\n",
            "|    web|         50594|          25819|         51.03%|\n",
            "| social|         37943|          18754|         49.43%|\n",
            "|  email|         63288|          28996|         45.82%|\n",
            "| mobile|         56914|          26018|         45.71%|\n",
            "+-------+--------------+---------------+---------------+\n",
            "\n"
          ]
        }
      ]
    },
    {
      "cell_type": "code",
      "source": [
        "### How is the age distribution of customers who completed offers compared to those who did not?\n",
        "age_distribution_query = \"\"\"\n",
        "SELECT\n",
        "    age_group,\n",
        "    total_customers,\n",
        "    completed_customers,\n",
        "    not_completed_customers,\n",
        "    CONCAT(ROUND(completed_customers / total_customers * 100, 2), '%') AS completion_rate\n",
        "FROM customer_completion_summary\n",
        "ORDER BY CASE\n",
        "        WHEN age_group = 'Under 25' THEN 1\n",
        "        WHEN age_group = '25-40' THEN 2\n",
        "        WHEN age_group = '41-60' THEN 3\n",
        "        WHEN age_group = '61 and above' THEN 4\n",
        "        ELSE 5\n",
        "    END\n",
        "\"\"\"\n",
        "spark.sql(age_distribution_query).show()"
      ],
      "metadata": {
        "colab": {
          "base_uri": "https://localhost:8080/"
        },
        "id": "J-BvSDU9XEIG",
        "outputId": "e412621d-af97-46a3-a96b-f86d1d1a4859"
      },
      "execution_count": 24,
      "outputs": [
        {
          "output_type": "stream",
          "name": "stdout",
          "text": [
            "+------------+---------------+-------------------+-----------------------+---------------+\n",
            "|   age_group|total_customers|completed_customers|not_completed_customers|completion_rate|\n",
            "+------------+---------------+-------------------+-----------------------+---------------+\n",
            "|    Under 25|            876|                609|                    267|         69.52%|\n",
            "|       25-40|           2426|               1823|                    603|         75.14%|\n",
            "|       41-60|           5979|               4920|                   1061|         82.29%|\n",
            "|61 and above|           7713|               5422|                   2295|          70.3%|\n",
            "+------------+---------------+-------------------+-----------------------+---------------+\n",
            "\n"
          ]
        }
      ]
    },
    {
      "cell_type": "code",
      "source": [
        "### What is the average time taken by customers to complete an offer after receiving it?\n",
        "avg_time_query = \"\"\"\n",
        "SELECT\n",
        "    ROUND(AVG(time_to_complete_hours), 2) AS avg_completion_hours\n",
        "FROM time_to_complete\n",
        "\"\"\"\n",
        "spark.sql(avg_time_query).show()"
      ],
      "metadata": {
        "colab": {
          "base_uri": "https://localhost:8080/"
        },
        "id": "tbhATYveXO7I",
        "outputId": "af768a1b-61d8-4612-881b-c99eca1b76de"
      },
      "execution_count": 25,
      "outputs": [
        {
          "output_type": "stream",
          "name": "stdout",
          "text": [
            "+--------------------+\n",
            "|avg_completion_hours|\n",
            "+--------------------+\n",
            "|               52.59|\n",
            "+--------------------+\n",
            "\n"
          ]
        }
      ]
    }
  ]
}